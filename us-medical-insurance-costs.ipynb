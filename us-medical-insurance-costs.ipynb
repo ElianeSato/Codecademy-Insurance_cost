{
 "cells": [
  {
   "cell_type": "code",
   "execution_count": null,
   "metadata": {},
   "outputs": [],
   "source": [
    "# U.S. Medical Insurance Costs"
   ]
  },
  {
   "cell_type": "code",
   "execution_count": 5,
   "metadata": {},
   "outputs": [],
   "source": [
    "# The goal of this project is finding out the average insurance cost in the dataset by region using csv library"
   ]
  },
  {
   "cell_type": "code",
   "execution_count": 2,
   "metadata": {},
   "outputs": [],
   "source": [
    "import csv"
   ]
  },
  {
   "cell_type": "code",
   "execution_count": null,
   "metadata": {},
   "outputs": [],
   "source": [
    "# Getting familiar with the records and the keys\n",
    "# Dataset was stored in the variable called 'list_of_records'"
   ]
  },
  {
   "cell_type": "code",
   "execution_count": 3,
   "metadata": {},
   "outputs": [
    {
     "name": "stdout",
     "output_type": "stream",
     "text": [
      "1338\n",
      "{'age': '19', 'sex': 'female', 'bmi': '27.9', 'children': '0', 'smoker': 'yes', 'region': 'southwest', 'charges': '16884.924'}\n",
      "{'age': '18', 'sex': 'male', 'bmi': '33.77', 'children': '1', 'smoker': 'no', 'region': 'southeast', 'charges': '1725.5523'}\n",
      "{'age': '28', 'sex': 'male', 'bmi': '33', 'children': '3', 'smoker': 'no', 'region': 'southeast', 'charges': '4449.462'}\n",
      "{'age': '33', 'sex': 'male', 'bmi': '22.705', 'children': '0', 'smoker': 'no', 'region': 'northwest', 'charges': '21984.47061'}\n",
      "{'age': '32', 'sex': 'male', 'bmi': '28.88', 'children': '0', 'smoker': 'no', 'region': 'northwest', 'charges': '3866.8552'}\n",
      "dict_keys(['age', 'sex', 'bmi', 'children', 'smoker', 'region', 'charges'])\n"
     ]
    }
   ],
   "source": [
    "with open(\"insurance.csv\", newline = '') as file:\n",
    "    records = csv.DictReader(file)\n",
    "    list_of_records = [record for record in records]\n",
    "\n",
    "print(len(list_of_records))\n",
    "for n in range(5):\n",
    "    print(list_of_records[n])\n",
    "print(list_of_records[n].keys())\n",
    "        "
   ]
  },
  {
   "cell_type": "code",
   "execution_count": 11,
   "metadata": {},
   "outputs": [
    {
     "name": "stdout",
     "output_type": "stream",
     "text": [
      "['southwest', 'southeast', 'northwest', 'northeast']\n"
     ]
    }
   ],
   "source": [
    "# Setting the regions in the dataset\n",
    "def set_regions(dataset):\n",
    "    regions = []\n",
    "    for n in range(len(list_of_records)):\n",
    "        if list_of_records[n][\"region\"] not in regions:\n",
    "          regions.append(list_of_records[n][\"region\"])\n",
    "    print(regions)\n",
    "    return regions\n",
    "    \n",
    "regions = set_regions(list_of_records)"
   ]
  },
  {
   "cell_type": "code",
   "execution_count": 35,
   "metadata": {},
   "outputs": [],
   "source": [
    "# Setting a function to calculate the average insurance cost by region\n",
    "def average_cost(regions, dataset):\n",
    "    # splitting costs by region and store them in a dictionary\n",
    "    cost_by_region = {region: [] for region in regions}\n",
    "    if 'charges' in dataset[0].keys():\n",
    "        for record in dataset:\n",
    "            for region in cost_by_region:\n",
    "                if record['region'] == region:\n",
    "                    cost_by_region[region].append(float(record['charges']))\n",
    "                    break\n",
    "    \n",
    "    # calculating the total cost by region\n",
    "    total_cost_by_region = {}\n",
    "    for region in cost_by_region.keys():\n",
    "        total_cost_by_region[region] = sum(cost_by_region[region])\n",
    "        \n",
    "    # creating a dictionary to store the average costs\n",
    "    avg_cost_by_region = {region: 0 for region in cost_by_region.keys()}\n",
    "    \n",
    "    # calculating the average insurance cost by region\n",
    "    for region in cost_by_region.keys():\n",
    "        avg_cost_by_region[region] = round(total_cost_by_region[region] / len(cost_by_region[region]),2)\n",
    "    return avg_cost_by_region\n",
    "        \n",
    "avg_cost_by_region = average_cost(regions, list_of_records)\n",
    "         "
   ]
  },
  {
   "cell_type": "code",
   "execution_count": null,
   "metadata": {},
   "outputs": [],
   "source": [
    "# Analyses"
   ]
  },
  {
   "cell_type": "code",
   "execution_count": 36,
   "metadata": {},
   "outputs": [
    {
     "name": "stdout",
     "output_type": "stream",
     "text": [
      "The average insurance costs vary from US$ 12346.94 to US$ 14735.41\n"
     ]
    }
   ],
   "source": [
    "print(\"The average insurance costs vary from US$\", min(avg_cost_by_region.values()), \"to US$\",\n",
    "      max(avg_cost_by_region.values()))\n",
    "# prints 'The average insurance costs vary from US$ 12346.94 to US$ 14735.41'"
   ]
  },
  {
   "cell_type": "code",
   "execution_count": 39,
   "metadata": {},
   "outputs": [
    {
     "name": "stdout",
     "output_type": "stream",
     "text": [
      "The region where the insurance cost is the highest is southeast , which the average insurance cost is 14735.41\n"
     ]
    }
   ],
   "source": [
    "print(\"The region where the insurance cost is the highest is\", \n",
    "      list(avg_cost_by_region.keys())[list(avg_cost_by_region.values()).index(max(avg_cost_by_region.values()))],\n",
    "     \", which the average insurance cost is US$\", max(avg_cost_by_region.values()))\n",
    "# prints 'The region where the insurance cost is the highest is southeast , which the average insurance cost is 14735.41'"
   ]
  },
  {
   "cell_type": "code",
   "execution_count": 40,
   "metadata": {},
   "outputs": [
    {
     "name": "stdout",
     "output_type": "stream",
     "text": [
      "The region where the insurance cost is the lowest is southwest , which the average insurance cost is US$ 12346.94\n"
     ]
    }
   ],
   "source": [
    "print(\"The region where the insurance cost is the lowest is\", \n",
    "      list(avg_cost_by_region.keys())[list(avg_cost_by_region.values()).index(min(avg_cost_by_region.values()))],\n",
    "     \", which the average insurance cost is US$\", min(avg_cost_by_region.values()))\n",
    "# prints 'The region where the insurance cost is the lowest is southwest , which the average insurance cost is US$ 12346.94'"
   ]
  },
  {
   "cell_type": "code",
   "execution_count": 44,
   "metadata": {},
   "outputs": [
    {
     "name": "stdout",
     "output_type": "stream",
     "text": [
      "The average insurance cost in southeast is about 19.34 % higher than in southwest\n"
     ]
    }
   ],
   "source": [
    "print(\"The average insurance cost in\", list(avg_cost_by_region.keys())[list(avg_cost_by_region.values()).index(max(avg_cost_by_region.values()))],\n",
    "     \"is about\", \n",
    "      round(((max(avg_cost_by_region.values()) - min(avg_cost_by_region.values()))/min(avg_cost_by_region.values())) * 100, 2),\n",
    "     \"% higher than in\", \n",
    "     list(avg_cost_by_region.keys())[list(avg_cost_by_region.values()).index(min(avg_cost_by_region.values()))])"
   ]
  },
  {
   "cell_type": "code",
   "execution_count": null,
   "metadata": {},
   "outputs": [],
   "source": []
  }
 ],
 "metadata": {
  "kernelspec": {
   "display_name": "Python 3 (ipykernel)",
   "language": "python",
   "name": "python3"
  },
  "language_info": {
   "codemirror_mode": {
    "name": "ipython",
    "version": 3
   },
   "file_extension": ".py",
   "mimetype": "text/x-python",
   "name": "python",
   "nbconvert_exporter": "python",
   "pygments_lexer": "ipython3",
   "version": "3.9.13"
  }
 },
 "nbformat": 4,
 "nbformat_minor": 4
}
